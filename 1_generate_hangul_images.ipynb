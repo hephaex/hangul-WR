{
 "cells": [
  {
   "cell_type": "code",
   "execution_count": 1,
   "metadata": {},
   "outputs": [],
   "source": [
    "import argparse\n",
    "import glob\n",
    "import io\n",
    "import os\n",
    "import random\n",
    "\n",
    "import numpy\n",
    "from PIL import Image, ImageFont, ImageDraw\n",
    "from scipy.ndimage.interpolation import map_coordinates\n",
    "from scipy.ndimage.filters import gaussian_filter\n",
    "\n",
    "SCRIPT_PATH = os.path.dirname(os.path.abspath('./hangul-WR'))"
   ]
  },
  {
   "cell_type": "code",
   "execution_count": 2,
   "metadata": {},
   "outputs": [],
   "source": [
    "# Default data paths.\n",
    "DEFAULT_LABEL_FILE = os.path.join(SCRIPT_PATH,\n",
    "                                  './labels/2350-common-hangul.txt')\n",
    "DEFAULT_FONTS_DIR = os.path.join(SCRIPT_PATH, './fonts')\n",
    "DEFAULT_OUTPUT_DIR = os.path.join(SCRIPT_PATH, './image-data')\n",
    "\n",
    "# Number of random distortion images to generate per font and character.\n",
    "DISTORTION_COUNT = 3\n",
    "\n",
    "# Width and height of the resulting image.\n",
    "IMAGE_WIDTH = 64\n",
    "IMAGE_HEIGHT = 64"
   ]
  },
  {
   "cell_type": "code",
   "execution_count": 3,
   "metadata": {},
   "outputs": [],
   "source": [
    "def generate_hangul_images(label_file, fonts_dir, output_dir):\n",
    "    \"\"\"Generate Hangul image files.\n",
    "\n",
    "    This will take in the passed in labels file and will generate several\n",
    "    images using the font files provided in the font directory. The font\n",
    "    directory is expected to be populated with *.ttf (True Type Font) files.\n",
    "    The generated images will be stored in the given output directory. Image\n",
    "    paths will have their corresponding labels listed in a CSV file.\n",
    "    \"\"\"\n",
    "    with io.open(label_file, 'r', encoding='utf-8') as f:\n",
    "        labels = f.read().splitlines()\n",
    "\n",
    "    image_dir = os.path.join(output_dir, 'hangul-images')\n",
    "    if not os.path.exists(image_dir):\n",
    "        os.makedirs(os.path.join(image_dir))\n",
    "\n",
    "    # Get a list of the fonts.\n",
    "    fonts = glob.glob(os.path.join(fonts_dir, '*.ttf'))\n",
    "\n",
    "    labels_csv = io.open(os.path.join(output_dir, 'labels-map.csv'), 'w',\n",
    "                         encoding='utf-8')\n",
    "\n",
    "    total_count = 0\n",
    "    prev_count = 0\n",
    "    for character in labels:\n",
    "        # Print image count roughly every 5000 images.\n",
    "        if total_count - prev_count > 5000:\n",
    "            prev_count = total_count\n",
    "            print('{} images generated...'.format(total_count))\n",
    "\n",
    "        for font in fonts:\n",
    "            total_count += 1\n",
    "            image = Image.new('L', (IMAGE_WIDTH, IMAGE_HEIGHT), color=0)\n",
    "            font = ImageFont.truetype(font, 48)\n",
    "            drawing = ImageDraw.Draw(image)\n",
    "            w, h = drawing.textsize(character, font=font)\n",
    "            drawing.text(\n",
    "                ((IMAGE_WIDTH-w)/2, (IMAGE_HEIGHT-h)/2),\n",
    "                character,\n",
    "                fill=(255),\n",
    "                font=font\n",
    "            )\n",
    "            file_string = 'hangul_{}.jpeg'.format(total_count)\n",
    "            file_path = os.path.join(image_dir, file_string)\n",
    "            image.save(file_path, 'JPEG')\n",
    "            labels_csv.write(u'{},{}\\n'.format(file_path, character))\n",
    "\n",
    "            for i in range(DISTORTION_COUNT):\n",
    "                total_count += 1\n",
    "                file_string = 'hangul_{}.jpeg'.format(total_count)\n",
    "                file_path = os.path.join(image_dir, file_string)\n",
    "                arr = numpy.array(image)\n",
    "\n",
    "                distorted_array = elastic_distort(\n",
    "                    arr, alpha=random.randint(30, 36),\n",
    "                    sigma=random.randint(5, 6)\n",
    "                )\n",
    "                distorted_image = Image.fromarray(distorted_array)\n",
    "                distorted_image.save(file_path, 'JPEG')\n",
    "                labels_csv.write(u'{},{}\\n'.format(file_path, character))\n",
    "\n",
    "    print('Finished generating {} images.'.format(total_count))\n",
    "    labels_csv.close()"
   ]
  },
  {
   "cell_type": "code",
   "execution_count": 4,
   "metadata": {},
   "outputs": [],
   "source": [
    "def elastic_distort(image, alpha, sigma):\n",
    "    \"\"\"Perform elastic distortion on an image.\n",
    "\n",
    "    Here, alpha refers to the scaling factor that controls the intensity of the\n",
    "    deformation. The sigma variable refers to the Gaussian filter standard\n",
    "    deviation.\n",
    "    \"\"\"\n",
    "    random_state = numpy.random.RandomState(None)\n",
    "    shape = image.shape\n",
    "\n",
    "    dx = gaussian_filter(\n",
    "        (random_state.rand(*shape) * 2 - 1),\n",
    "        sigma, mode=\"constant\"\n",
    "    ) * alpha\n",
    "    dy = gaussian_filter(\n",
    "        (random_state.rand(*shape) * 2 - 1),\n",
    "        sigma, mode=\"constant\"\n",
    "    ) * alpha\n",
    "\n",
    "    x, y = numpy.meshgrid(numpy.arange(shape[0]), numpy.arange(shape[1]))\n",
    "    indices = numpy.reshape(y+dy, (-1, 1)), numpy.reshape(x+dx, (-1, 1))\n",
    "    return map_coordinates(image, indices, order=1).reshape(shape)"
   ]
  },
  {
   "cell_type": "code",
   "execution_count": 5,
   "metadata": {},
   "outputs": [],
   "source": [
    "# label_file = './labels/2350-common-hangul.txt'\n",
    "label_file = DEFAULT_LABEL_FILE\n",
    "\n",
    "# fonts_dir = './fonts'\n",
    "fonts_dir = DEFAULT_FONTS_DIR\n",
    "\n",
    "# output_dir = './image-data'\n",
    "output_dir = DEFAULT_OUTPUT_DIR"
   ]
  },
  {
   "cell_type": "code",
   "execution_count": 6,
   "metadata": {},
   "outputs": [
    {
     "name": "stdout",
     "output_type": "stream",
     "text": [
      "5012 images generated...\n",
      "10024 images generated...\n",
      "15036 images generated...\n",
      "20048 images generated...\n",
      "25060 images generated...\n",
      "30072 images generated...\n",
      "35084 images generated...\n",
      "40096 images generated...\n",
      "45108 images generated...\n",
      "50120 images generated...\n",
      "55132 images generated...\n",
      "60144 images generated...\n",
      "65156 images generated...\n",
      "Finished generating 65800 images.\n"
     ]
    }
   ],
   "source": [
    "generate_hangul_images(label_file, fonts_dir, output_dir)"
   ]
  },
  {
   "cell_type": "code",
   "execution_count": null,
   "metadata": {},
   "outputs": [],
   "source": []
  }
 ],
 "metadata": {
  "kernelspec": {
   "display_name": "TensorFlow 1.14 on Python 3.6 (CUDA 9.0)",
   "language": "python",
   "name": "python3"
  },
  "language_info": {
   "codemirror_mode": {
    "name": "ipython",
    "version": 3
   },
   "file_extension": ".py",
   "mimetype": "text/x-python",
   "name": "python",
   "nbconvert_exporter": "python",
   "pygments_lexer": "ipython3",
   "version": "3.6.8"
  }
 },
 "nbformat": 4,
 "nbformat_minor": 2
}
